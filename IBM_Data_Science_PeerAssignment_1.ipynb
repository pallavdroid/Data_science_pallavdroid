{
  "metadata": {
    "kernelspec": {
      "name": "python",
      "display_name": "Python (Pyodide)",
      "language": "python"
    },
    "language_info": {
      "codemirror_mode": {
        "name": "python",
        "version": 3
      },
      "file_extension": ".py",
      "mimetype": "text/x-python",
      "name": "python",
      "nbconvert_exporter": "python",
      "pygments_lexer": "ipython3",
      "version": "3.8"
    }
  },
  "nbformat_minor": 4,
  "nbformat": 4,
  "cells": [
    {
      "cell_type": "markdown",
      "source": "IBM Data Science Peer Assignment Pallav's Notebook",
      "metadata": {}
    },
    {
      "cell_type": "markdown",
      "source": "Introduction",
      "metadata": {}
    },
    {
      "cell_type": "markdown",
      "source": "Data Science Languages",
      "metadata": {}
    },
    {
      "cell_type": "markdown",
      "source": "Data Science Libraries",
      "metadata": {}
    },
    {
      "cell_type": "markdown",
      "source": "Data Science Tools\n\nTool Name | What it is used for?\nRStudio   | Tool for statistical computing and graphics\nApache Spark | Analytics engine for big Data processing with options for streaming, ML and graph processing\nTensor Flow | ML framework for deep learning and neural networks",
      "metadata": {}
    },
    {
      "cell_type": "markdown",
      "source": "Arithmetic Expression\n \nArithmetic operations are basics in programming and data analysis - operations such as addition, subtraction, multiplication, and division.\n\nBelow are examples of performing arithmetic operations in Python:",
      "metadata": {}
    },
    {
      "cell_type": "code",
      "source": "# Multiply two numbers\noperation_multiply = 7 * 1\n\n# Addition of two numbers\noperation_addition = 7 + 3 \n\n# Display the results\noperation_multiply, operation_addition",
      "metadata": {
        "trusted": true
      },
      "outputs": [
        {
          "execution_count": 3,
          "output_type": "execute_result",
          "data": {
            "text/plain": "(7, 10)"
          },
          "metadata": {}
        }
      ],
      "execution_count": 3
    },
    {
      "cell_type": "code",
      "source": "# define the number of minutes\nminutes = 360\n\n# Convert minutes to hours\nhours = minutes / 60\n\n# Display the result\nhours",
      "metadata": {
        "trusted": true
      },
      "outputs": [
        {
          "execution_count": 4,
          "output_type": "execute_result",
          "data": {
            "text/plain": "6.0"
          },
          "metadata": {}
        }
      ],
      "execution_count": 4
    },
    {
      "cell_type": "markdown",
      "source": "Objectives\n\n1) Creating code and markup cells\n2) Execute arithmetic operations in python\n3) Using Conversion operation\n4) Basics of python code cells",
      "metadata": {}
    },
    {
      "cell_type": "markdown",
      "source": "Author's Name\n\n  - Pallav",
      "metadata": {}
    }
  ]
}